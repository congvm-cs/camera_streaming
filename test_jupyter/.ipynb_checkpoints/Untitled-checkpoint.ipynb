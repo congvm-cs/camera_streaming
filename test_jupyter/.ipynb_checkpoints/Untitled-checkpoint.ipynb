{
 "cells": [
  {
   "cell_type": "code",
   "execution_count": 14,
   "metadata": {},
   "outputs": [],
   "source": [
    "import pymysql\n",
    "import pandas as pd\n",
    "import numpy as np"
   ]
  },
  {
   "cell_type": "code",
   "execution_count": 3,
   "metadata": {},
   "outputs": [],
   "source": [
    "#!/usr/bin/python\n",
    "\n",
    "hostname = 'localhost'\n",
    "username = 'root'\n",
    "password = ''\n",
    "# database = 'DBNAME'\n",
    "\n",
    "# Simple routine to run a query on a database and print the results:\n",
    "def doQuery( conn ) :\n",
    "    cur = conn.cursor()\n",
    "\n",
    "    cur.execute( \"SELECT fname, lname FROM employee\" )\n",
    "\n",
    "    for firstname, lastname in cur.fetchall() :\n",
    "        print firstname, lastname\n",
    "\n",
    "import pymysql\n",
    "myConnection = pymysql.connect(host=hostname, user=username, passwd=password)"
   ]
  },
  {
   "cell_type": "code",
   "execution_count": 17,
   "metadata": {},
   "outputs": [],
   "source": [
    "from random import choice\n",
    "import string\n",
    "\n",
    "def GenPasswd2(length=8, chars=string.ascii_letters + string.digits):\n",
    "    return ''.join([choice(chars) for i in range(length)])"
   ]
  },
  {
   "cell_type": "code",
   "execution_count": 4,
   "metadata": {},
   "outputs": [],
   "source": [
    "cursor = myConnection.cursor()"
   ]
  },
  {
   "cell_type": "code",
   "execution_count": 5,
   "metadata": {},
   "outputs": [
    {
     "data": {
      "text/plain": [
       "1"
      ]
     },
     "execution_count": 5,
     "metadata": {},
     "output_type": "execute_result"
    }
   ],
   "source": [
    "# Create database\n",
    "_sql = \"CREATE DATABASE busnopaper_db\"\n",
    "cursor.execute(_sql)"
   ]
  },
  {
   "cell_type": "code",
   "execution_count": 6,
   "metadata": {},
   "outputs": [
    {
     "data": {
      "text/plain": [
       "0"
      ]
     },
     "execution_count": 6,
     "metadata": {},
     "output_type": "execute_result"
    }
   ],
   "source": [
    "# Choose database\n",
    "_sql = \"USE busnopaper_db\"\n",
    "cursor.execute(_sql)"
   ]
  },
  {
   "cell_type": "code",
   "execution_count": 12,
   "metadata": {},
   "outputs": [
    {
     "data": {
      "text/plain": [
       "0"
      ]
     },
     "execution_count": 12,
     "metadata": {},
     "output_type": "execute_result"
    }
   ],
   "source": [
    "# Delete table\n",
    "_sql = \"DROP TABLE user;\"\n",
    "cursor.execute(_sql)"
   ]
  },
  {
   "cell_type": "code",
   "execution_count": 13,
   "metadata": {},
   "outputs": [
    {
     "data": {
      "text/plain": [
       "0"
      ]
     },
     "execution_count": 13,
     "metadata": {},
     "output_type": "execute_result"
    }
   ],
   "source": [
    "# Create table\n",
    "_sql = \"CREATE TABLE user (\\\n",
    "        id int unsigned not null, \\\n",
    "        username LONGTEXT not null, \\\n",
    "        password LONGTEXT not null,\\\n",
    "        qrcode LONGTEXT not null, \\\n",
    "        usertype LONGTEXT not null, \\\n",
    "        money INT unsigned not null, \\\n",
    "        email LONGTEXT) \\\n",
    "        \"\n",
    "cursor.execute(_sql)"
   ]
  },
  {
   "cell_type": "code",
   "execution_count": null,
   "metadata": {},
   "outputs": [],
   "source": [
    "# Insert an example\n",
    "_sql = \"INSERT INTO user( \\\n",
    "                id, \\\n",
    "                name, \\\n",
    "                password,\\\n",
    "                qrcode,\\\n",
    "                usertype,\\\n",
    "                money,\\\n",
    "                email\\) \\\n",
    "            VALUES({}, {}, {}, {}, {}, {}, {});\".format(\n",
    "                np.random.ranint(0, 1e9),\n",
    "                \"congvm\",\n",
    "                \"1234\",\n",
    "                \"congvm{}\".format(np.random.r)\n",
    ")\n"
   ]
  }
 ],
 "metadata": {
  "kernelspec": {
   "display_name": "Python 3",
   "language": "python",
   "name": "python3"
  },
  "language_info": {
   "codemirror_mode": {
    "name": "ipython",
    "version": 3
   },
   "file_extension": ".py",
   "mimetype": "text/x-python",
   "name": "python",
   "nbconvert_exporter": "python",
   "pygments_lexer": "ipython3",
   "version": "3.6.5"
  }
 },
 "nbformat": 4,
 "nbformat_minor": 2
}
